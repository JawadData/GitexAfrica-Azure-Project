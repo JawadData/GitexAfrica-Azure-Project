{
 "cells": [
  {
   "cell_type": "markdown",
   "metadata": {
    "application/vnd.databricks.v1+cell": {
     "cellMetadata": {
      "byteLimit": 2048000,
      "rowLimit": 10000
     },
     "inputWidgets": {},
     "nuid": "c4c4f1ec-d6e2-4d51-804d-99014cdc7c7d",
     "showTitle": false,
     "tableResultSettingsMap": {},
     "title": ""
    }
   },
   "source": [
    "# Bronze To Silver"
   ]
  },
  {
   "cell_type": "code",
   "execution_count": 0,
   "metadata": {
    "application/vnd.databricks.v1+cell": {
     "cellMetadata": {
      "byteLimit": 2048000,
      "rowLimit": 10000
     },
     "inputWidgets": {},
     "nuid": "9616be38-7338-4fa2-912b-679523b1ec5b",
     "showTitle": false,
     "tableResultSettingsMap": {},
     "title": ""
    }
   },
   "outputs": [
    {
     "output_type": "stream",
     "name": "stdout",
     "output_type": "stream",
     "text": [
      "Out[1]: [FileInfo(path='abfss://gitexdatacontainner@gitexdata.dfs.core.windows.net/bronze/', name='bronze/', size=0, modificationTime=1731752687000),\n FileInfo(path='abfss://gitexdatacontainner@gitexdata.dfs.core.windows.net/gold/', name='gold/', size=0, modificationTime=1731939735000),\n FileInfo(path='abfss://gitexdatacontainner@gitexdata.dfs.core.windows.net/silver/', name='silver/', size=0, modificationTime=1731752696000)]"
     ]
    }
   ],
   "source": [
    "\n",
    "dbutils.fs.ls(\"abfss://gitexdatacontainner@gitexdata.dfs.core.windows.net/\")"
   ]
  },
  {
   "cell_type": "code",
   "execution_count": 0,
   "metadata": {
    "application/vnd.databricks.v1+cell": {
     "cellMetadata": {
      "byteLimit": 2048000,
      "rowLimit": 10000
     },
     "inputWidgets": {},
     "nuid": "6efbe7d2-15fd-4bd0-9eb6-ff029a3055b0",
     "showTitle": false,
     "tableResultSettingsMap": {},
     "title": ""
    }
   },
   "outputs": [
    {
     "output_type": "display_data",
     "data": {
      "text/html": [
       "\n",
       "            <div>\n",
       "                <p><b>SparkSession - hive</b></p>\n",
       "                \n",
       "        <div>\n",
       "            <p><b>SparkContext</b></p>\n",
       "\n",
       "            <p><a href=\"/?o=4211996844314450#setting/sparkui/1116-122904-myng7onw/driver-8604685764573119847\">Spark UI</a></p>\n",
       "\n",
       "            <dl>\n",
       "              <dt>Version</dt>\n",
       "                <dd><code>v3.3.2</code></dd>\n",
       "              <dt>Master</dt>\n",
       "                <dd><code>local[*, 4]</code></dd>\n",
       "              <dt>AppName</dt>\n",
       "                <dd><code>Databricks Shell</code></dd>\n",
       "            </dl>\n",
       "        </div>\n",
       "        \n",
       "            </div>\n",
       "        "
      ]
     },
     "metadata": {
      "application/vnd.databricks.v1+output": {
       "addedWidgets": {},
       "arguments": {},
       "data": "\n            <div>\n                <p><b>SparkSession - hive</b></p>\n                \n        <div>\n            <p><b>SparkContext</b></p>\n\n            <p><a href=\"/?o=4211996844314450#setting/sparkui/1116-122904-myng7onw/driver-8604685764573119847\">Spark UI</a></p>\n\n            <dl>\n              <dt>Version</dt>\n                <dd><code>v3.3.2</code></dd>\n              <dt>Master</dt>\n                <dd><code>local[*, 4]</code></dd>\n              <dt>AppName</dt>\n                <dd><code>Databricks Shell</code></dd>\n            </dl>\n        </div>\n        \n            </div>\n        ",
       "datasetInfos": [],
       "metadata": {},
       "removedWidgets": [],
       "textData": null,
       "type": "htmlSandbox"
      }
     },
     "output_type": "display_data"
    }
   ],
   "source": [
    "spark"
   ]
  },
  {
   "cell_type": "markdown",
   "metadata": {
    "application/vnd.databricks.v1+cell": {
     "cellMetadata": {
      "byteLimit": 2048000,
      "rowLimit": 10000
     },
     "inputWidgets": {},
     "nuid": "c6e296f8-b63b-4129-b375-ea87aaf73cfc",
     "showTitle": false,
     "tableResultSettingsMap": {},
     "title": ""
    }
   },
   "source": [
    "## gitex file transformation"
   ]
  },
  {
   "cell_type": "code",
   "execution_count": 0,
   "metadata": {
    "application/vnd.databricks.v1+cell": {
     "cellMetadata": {
      "byteLimit": 2048000,
      "rowLimit": 10000
     },
     "inputWidgets": {},
     "nuid": "4c527eea-7ef7-4d1c-a3ef-1750ab3a9386",
     "showTitle": false,
     "tableResultSettingsMap": {},
     "title": ""
    }
   },
   "outputs": [],
   "source": [
    "gitex = spark.read.format(\"csv\").option(\"header\", \"true\").load(\"abfss://gitexdatacontainner@gitexdata.dfs.core.windows.net/bronze/gitex.csv\")"
   ]
  },
  {
   "cell_type": "code",
   "execution_count": 0,
   "metadata": {
    "application/vnd.databricks.v1+cell": {
     "cellMetadata": {
      "byteLimit": 2048000,
      "rowLimit": 10000
     },
     "inputWidgets": {},
     "nuid": "28c67db2-3732-4f15-86dd-4c2edc2f9bba",
     "showTitle": false,
     "tableResultSettingsMap": {},
     "title": ""
    }
   },
   "outputs": [
    {
     "output_type": "stream",
     "name": "stdout",
     "output_type": "stream",
     "text": [
      "Out[4]: ['group src',\n 'heading',\n 'web',\n 'web 2',\n 'list-group-item-text',\n 'sector_block',\n 'sector_block 2',\n 'sector_block 3',\n 'sector_block 4',\n 'sector_block 5',\n 'sector_block 6',\n 'sector_block 7',\n 'sector_block 8',\n 'sector_block 9',\n 'sector_block 10',\n 'sector_block_outer',\n 'sector_block_outer href',\n 'btn href',\n 'group src 2']"
     ]
    }
   ],
   "source": [
    "gitex.columns"
   ]
  },
  {
   "cell_type": "code",
   "execution_count": 0,
   "metadata": {
    "application/vnd.databricks.v1+cell": {
     "cellMetadata": {
      "byteLimit": 2048000,
      "rowLimit": 10000
     },
     "inputWidgets": {},
     "nuid": "f743035d-c667-4e47-964e-31cfb0d183b3",
     "showTitle": false,
     "tableResultSettingsMap": {},
     "title": ""
    }
   },
   "outputs": [
    {
     "output_type": "stream",
     "name": "stdout",
     "output_type": "stream",
     "text": [
      "+----------------------------------------------------------------------------------------------------------------------+\n|group src                                                                                                             |\n+----------------------------------------------------------------------------------------------------------------------+\n|https://exhibitor-manual-004.s3.ap-south-1.amazonaws.com/Production/exb_doc/2011/14296/thumb_2011_14296_14139_2556.png|\n|https://exhibitor-manual-004.s3.ap-south-1.amazonaws.com/Production/exb_doc/2011/14443/thumb_2011_14443_14286_8407.png|\n|212 Founders’ ambition is to exercise a structuring impact on the entrepreneuria ...\"                                 |\n|https://exhibitor-manual-004.s3.ap-south-1.amazonaws.com/Production/exb_doc/2011/14297/thumb_2011_14297_14140_6313.png|\n|https://exhibitor-manual-004.s3.ap-south-1.amazonaws.com/Production/exb_doc/2011/15566/2011_15566_15392_1267.png      |\n|https://exhibitor-manual-004.s3.ap-south-1.amazonaws.com/Production/exb_doc/2011/15276/thumb_2011_15276_15104_7942.png|\n|https://exhibitor-manual-004.s3.ap-south-1.amazonaws.com/Production/exb_doc/2011/15014/thumb_2011_15014_14845_5196.png|\n|https://exhibitor-manual-004.s3.ap-south-1.amazonaws.com/Production/exb_doc/2011/15890/thumb_2011_15890_15716_2565.png|\n|https://exhibitor-manual-004.s3.ap-south-1.amazonaws.com/Production/exb_doc/2011/14688/thumb_2011_14688_14528_5333.png|\n|We cater to a wide spectrum of projects and meet the business requirement with highly intriguing Web 3.0/Blockchain   |\n+----------------------------------------------------------------------------------------------------------------------+\nonly showing top 10 rows\n\n"
     ]
    }
   ],
   "source": [
    "gitex.select(\"group src\").show(n=10, truncate = False)"
   ]
  },
  {
   "cell_type": "code",
   "execution_count": 0,
   "metadata": {
    "application/vnd.databricks.v1+cell": {
     "cellMetadata": {
      "byteLimit": 2048000,
      "rowLimit": 10000
     },
     "inputWidgets": {},
     "nuid": "c0446c08-2e6d-42bb-bf63-334c24907c99",
     "showTitle": false,
     "tableResultSettingsMap": {},
     "title": ""
    }
   },
   "outputs": [],
   "source": [
    "gitex = gitex.withColumnRenamed(\"heading\", \"exhibitor_Name\")\n"
   ]
  },
  {
   "cell_type": "code",
   "execution_count": 0,
   "metadata": {
    "application/vnd.databricks.v1+cell": {
     "cellMetadata": {
      "byteLimit": 2048000,
      "rowLimit": 10000
     },
     "inputWidgets": {},
     "nuid": "163bcf29-30f9-45a1-802d-77aa284b114b",
     "showTitle": false,
     "tableResultSettingsMap": {},
     "title": ""
    }
   },
   "outputs": [
    {
     "output_type": "stream",
     "name": "stdout",
     "output_type": "stream",
     "text": [
      "+-------------------------------------------+\n|web                                        |\n+-------------------------------------------+\n|Stand No- 14A-16, Hall 14                  |\n|Stand No- 9A-10, Hall 9                    |\n|Incubator/Accelerator/Investment           |\n|Stand No- 12C-61, Hall 12                  |\n|Stand No- 9D-23, Hall 9                    |\n|Stand No- 2D-12, Hall 2                    |\n|Stand No- 1A-12, Hall 1                    |\n|Stand No- 4B-25, Hall 4                    |\n|Stand No- 2D-22, Hall 2                    |\n| IOT and Mobile apps development solutions.|\n|Software Services                          |\n|Stand No- 8L-04, Hall 8                    |\n|Stand No- 14D-60A, 14D-60B, Hall 13        |\n|Stand No- 16D-50, Hall 16                  |\n|Stand No- 9D-24, Hall 9                    |\n| and machine learning. We help you ...\"    |\n|Stand No- 8M-06, Hall 8                    |\n|Stand No- 4E-4, Hall 4                     |\n|Stand No- Sponsor, Sponsor                 |\n|Stand No- 3E-14, Hall 3                    |\n|Stand No- 8B-14, Hall 8                    |\n|null                                       |\n|Stand No- 15B-60, Hall 15                  |\n|Stand No- 10D-10, Hall 10                  |\n|Stand No- 17B-83, Hall 17                  |\n|Stand No- 19C-60, Hall 19                  |\n|Stand No- 5D-50, Hall 5                    |\n| equipment suppliers]                      |\n|Stand No- 4C-35, Hall 4                    |\n|Stand No- 9B-25, Hall 9                    |\n+-------------------------------------------+\nonly showing top 30 rows\n\n"
     ]
    }
   ],
   "source": [
    "gitex.select(\"web\").show(n=30, truncate = False)"
   ]
  },
  {
   "cell_type": "code",
   "execution_count": 0,
   "metadata": {
    "application/vnd.databricks.v1+cell": {
     "cellMetadata": {
      "byteLimit": 2048000,
      "rowLimit": 10000
     },
     "inputWidgets": {},
     "nuid": "cc76aaba-10d1-4e6a-a2c0-718cb514b161",
     "showTitle": false,
     "tableResultSettingsMap": {},
     "title": ""
    }
   },
   "outputs": [],
   "source": [
    "from pyspark.sql.functions import regexp_extract, when\n",
    "\n",
    "gitex = gitex.withColumn(\"Stand\", regexp_extract(\"web\", r\"Stand No- ([^,]+)\", 1)) \\\n",
    "       .withColumn(\"Hall\", regexp_extract(\"web\", r\"Hall (\\d+)\", 1))\n",
    "\n",
    "gitex = gitex.withColumn(\"Stand\", when(gitex[\"Stand\"] == \"\", None).otherwise(gitex[\"Stand\"])) \\\n",
    "       .withColumn(\"Hall\", when(gitex[\"Hall\"] == \"\", None).otherwise(gitex[\"Hall\"]))\n",
    "\n"
   ]
  },
  {
   "cell_type": "code",
   "execution_count": 0,
   "metadata": {
    "application/vnd.databricks.v1+cell": {
     "cellMetadata": {
      "byteLimit": 2048000,
      "rowLimit": 10000
     },
     "inputWidgets": {},
     "nuid": "d6d0adbb-1389-4250-8834-b43c017b05d8",
     "showTitle": false,
     "tableResultSettingsMap": {},
     "title": ""
    }
   },
   "outputs": [
    {
     "output_type": "stream",
     "name": "stdout",
     "output_type": "stream",
     "text": [
      "Out[9]: ['group src',\n 'exhibitor_Name',\n 'web',\n 'web 2',\n 'list-group-item-text',\n 'sector_block',\n 'sector_block 2',\n 'sector_block 3',\n 'sector_block 4',\n 'sector_block 5',\n 'sector_block 6',\n 'sector_block 7',\n 'sector_block 8',\n 'sector_block 9',\n 'sector_block 10',\n 'sector_block_outer',\n 'sector_block_outer href',\n 'btn href',\n 'group src 2',\n 'Stand',\n 'Hall']"
     ]
    }
   ],
   "source": [
    "gitex.columns"
   ]
  },
  {
   "cell_type": "code",
   "execution_count": 0,
   "metadata": {
    "application/vnd.databricks.v1+cell": {
     "cellMetadata": {
      "byteLimit": 2048000,
      "rowLimit": 10000
     },
     "inputWidgets": {},
     "nuid": "8af04e29-c02d-4452-a8d4-338be679228e",
     "showTitle": false,
     "tableResultSettingsMap": {},
     "title": ""
    }
   },
   "outputs": [],
   "source": [
    "gitex = gitex.withColumnRenamed(\"web 2\", \"origin_country\")"
   ]
  },
  {
   "cell_type": "code",
   "execution_count": 0,
   "metadata": {
    "application/vnd.databricks.v1+cell": {
     "cellMetadata": {
      "byteLimit": 2048000,
      "rowLimit": 10000
     },
     "inputWidgets": {},
     "nuid": "63891b77-c458-4281-9477-cdfc125ecd11",
     "showTitle": false,
     "tableResultSettingsMap": {},
     "title": ""
    }
   },
   "outputs": [],
   "source": [
    "gitex = gitex.withColumnRenamed(\"list-group-item-text\", \"exhibitor_description\")"
   ]
  },
  {
   "cell_type": "code",
   "execution_count": 0,
   "metadata": {
    "application/vnd.databricks.v1+cell": {
     "cellMetadata": {
      "byteLimit": 2048000,
      "rowLimit": 10000
     },
     "inputWidgets": {},
     "nuid": "05ac7254-8d98-4633-805e-fac240a7784c",
     "showTitle": false,
     "tableResultSettingsMap": {},
     "title": ""
    }
   },
   "outputs": [],
   "source": [
    "gitex = gitex.withColumnRenamed(\"sector_block\", \"Primary_sector\") \\\n",
    "             .withColumnRenamed(\"sector_block 2\",\"Additional_sectors_2\") \\\n",
    "               .withColumnRenamed(\"sector_block 3\",\"Additional_sectors_3\") \\\n",
    "                 .withColumnRenamed(\"sector_block 4\",\"Additional_sectors_4\") \\\n",
    "                   .withColumnRenamed(\"sector_block 5\",\"Additional_sectors_5\") \\\n",
    "                     .withColumnRenamed(\"sector_block 6\",\"Additional_sectors_6\") \\\n",
    "                       .withColumnRenamed(\"sector_block 7\",\"Additional_sectors_7\") \\\n",
    "                         .withColumnRenamed(\"sector_block 8\",\"Additional_sectors_8\") \\\n",
    "                           .withColumnRenamed(\"sector_block 9\",\"Additional_sectors_9\") \\\n",
    "                             .withColumnRenamed(\"sector_block 10\",\"Additional_sectors_10\") "
   ]
  },
  {
   "cell_type": "code",
   "execution_count": 0,
   "metadata": {
    "application/vnd.databricks.v1+cell": {
     "cellMetadata": {
      "byteLimit": 2048000,
      "rowLimit": 10000
     },
     "inputWidgets": {},
     "nuid": "c21779df-a5fc-40cc-9c8d-a07f64bd22c5",
     "showTitle": false,
     "tableResultSettingsMap": {},
     "title": ""
    }
   },
   "outputs": [
    {
     "output_type": "stream",
     "name": "stdout",
     "output_type": "stream",
     "text": [
      "+--------------------------------------------------------------------------------------------------+\n|sector_block_outer                                                                                |\n+--------------------------------------------------------------------------------------------------+\n|Read More                                                                                         |\n|null                                                                                              |\n|null                                                                                              |\n|null                                                                                              |\n|null                                                                                              |\n|Read More                                                                                         |\n|null                                                                                              |\n|null                                                                                              |\n|null                                                                                              |\n|null                                                                                              |\n|https://exhibitor-manual-004.s3.ap-south-1.amazonaws.com/Production/media/2011/GF-lgoo23.png      |\n|Read More                                                                                         |\n|null                                                                                              |\n|Read More                                                                                         |\n|null                                                                                              |\n|https://exhibitors-dwtc.exhibitoronlinemanual.com/gitex-africa-2024/Exhibitor/ExbDetails/accelcity|\n|Read More                                                                                         |\n|null                                                                                              |\n|Read More                                                                                         |\n|Read More                                                                                         |\n|null                                                                                              |\n|null                                                                                              |\n|null                                                                                              |\n|Read More                                                                                         |\n|null                                                                                              |\n|null                                                                                              |\n|null                                                                                              |\n|null                                                                                              |\n|null                                                                                              |\n|null                                                                                              |\n+--------------------------------------------------------------------------------------------------+\nonly showing top 30 rows\n\n"
     ]
    }
   ],
   "source": [
    "gitex.select(\"sector_block_outer\").show(30, truncate = False)"
   ]
  },
  {
   "cell_type": "code",
   "execution_count": 0,
   "metadata": {
    "application/vnd.databricks.v1+cell": {
     "cellMetadata": {
      "byteLimit": 2048000,
      "rowLimit": 10000
     },
     "inputWidgets": {},
     "nuid": "d5f87c9f-93e6-40ba-8660-856e21c81934",
     "showTitle": false,
     "tableResultSettingsMap": {},
     "title": ""
    }
   },
   "outputs": [
    {
     "output_type": "stream",
     "name": "stdout",
     "output_type": "stream",
     "text": [
      "Nombre de valeurs nulles dans 'sector_block_outer href': 1454\nNombre de valeurs non nulles dans 'sector_block_outer href': 455\n"
     ]
    }
   ],
   "source": [
    "from pyspark.sql.functions import col\n",
    "null_count = gitex.filter(col(\"sector_block_outer href\").isNull()).count()\n",
    "non_null_count = gitex.filter(col(\"sector_block_outer href\").isNotNull()).count()\n",
    "\n",
    "print(f\"Nombre de valeurs nulles dans 'sector_block_outer href': {null_count}\")\n",
    "print(f\"Nombre de valeurs non nulles dans 'sector_block_outer href': {non_null_count}\")"
   ]
  },
  {
   "cell_type": "code",
   "execution_count": 0,
   "metadata": {
    "application/vnd.databricks.v1+cell": {
     "cellMetadata": {
      "byteLimit": 2048000,
      "rowLimit": 10000
     },
     "inputWidgets": {},
     "nuid": "c2810989-5508-429d-a60a-62ac1cf106d1",
     "showTitle": false,
     "tableResultSettingsMap": {},
     "title": ""
    }
   },
   "outputs": [
    {
     "output_type": "stream",
     "name": "stdout",
     "output_type": "stream",
     "text": [
      "Out[15]: ['group src',\n 'exhibitor_Name',\n 'web',\n 'origin_country',\n 'exhibitor_description',\n 'Primary_sector',\n 'Additional_sectors_2',\n 'Additional_sectors_3',\n 'Additional_sectors_4',\n 'Additional_sectors_5',\n 'Additional_sectors_6',\n 'Additional_sectors_7',\n 'Additional_sectors_8',\n 'Additional_sectors_9',\n 'Additional_sectors_10',\n 'sector_block_outer',\n 'sector_block_outer href',\n 'btn href',\n 'group src 2',\n 'Stand',\n 'Hall']"
     ]
    }
   ],
   "source": [
    "gitex.columns"
   ]
  },
  {
   "cell_type": "code",
   "execution_count": 0,
   "metadata": {
    "application/vnd.databricks.v1+cell": {
     "cellMetadata": {
      "byteLimit": 2048000,
      "rowLimit": 10000
     },
     "inputWidgets": {},
     "nuid": "fdb7127b-6952-4a92-a82f-53155b50df4e",
     "showTitle": false,
     "tableResultSettingsMap": {},
     "title": ""
    }
   },
   "outputs": [],
   "source": [
    "\n",
    "gitex = gitex.drop(\"group src\", \"web\", \"sector_block_outer\", \"sector_block_outer href\", \"group src 2\", \"btn href\")\n"
   ]
  },
  {
   "cell_type": "code",
   "execution_count": 0,
   "metadata": {
    "application/vnd.databricks.v1+cell": {
     "cellMetadata": {
      "byteLimit": 2048000,
      "rowLimit": 10000
     },
     "inputWidgets": {},
     "nuid": "eabc4025-4345-42f1-8cc3-2fda48e5a805",
     "showTitle": false,
     "tableResultSettingsMap": {},
     "title": ""
    }
   },
   "outputs": [
    {
     "output_type": "stream",
     "name": "stdout",
     "output_type": "stream",
     "text": [
      "Out[17]: ['exhibitor_Name',\n 'origin_country',\n 'exhibitor_description',\n 'Primary_sector',\n 'Additional_sectors_2',\n 'Additional_sectors_3',\n 'Additional_sectors_4',\n 'Additional_sectors_5',\n 'Additional_sectors_6',\n 'Additional_sectors_7',\n 'Additional_sectors_8',\n 'Additional_sectors_9',\n 'Additional_sectors_10',\n 'Stand',\n 'Hall']"
     ]
    }
   ],
   "source": [
    "gitex.columns"
   ]
  },
  {
   "cell_type": "code",
   "execution_count": 0,
   "metadata": {
    "application/vnd.databricks.v1+cell": {
     "cellMetadata": {
      "byteLimit": 2048000,
      "rowLimit": 10000
     },
     "inputWidgets": {},
     "nuid": "8127038b-11cf-4782-b812-0b184ddb8270",
     "showTitle": false,
     "tableResultSettingsMap": {},
     "title": ""
    }
   },
   "outputs": [
    {
     "output_type": "stream",
     "name": "stdout",
     "output_type": "stream",
     "text": [
      "+--------------------------------+\n|Additional_sectors_3            |\n+--------------------------------+\n|Cyber security                  |\n|null                            |\n|null                            |\n|null                            |\n|null                            |\n|Big Data & Analytics            |\n|null                            |\n|null                            |\n|null                            |\n|null                            |\n|Smart Contracts                 |\n|Coding and Development          |\n|Computer Vision                 |\n|Coding and Development          |\n|null                            |\n|Future Mobility & Transportation|\n|Blockchain                      |\n|null                            |\n|Energy Tech                     |\n|Cyber security                  |\n|null                            |\n|null                            |\n|null                            |\n|Broadband Services              |\n|Chatbots / Virtual Assistant    |\n|null                            |\n|null                            |\n|null                            |\n|Communication Equipment         |\n|null                            |\n+--------------------------------+\nonly showing top 30 rows\n\n"
     ]
    }
   ],
   "source": [
    "gitex.select(\"Additional_sectors_3\").show(30, truncate =False)"
   ]
  },
  {
   "cell_type": "code",
   "execution_count": 0,
   "metadata": {
    "application/vnd.databricks.v1+cell": {
     "cellMetadata": {
      "byteLimit": 2048000,
      "rowLimit": 10000
     },
     "inputWidgets": {},
     "nuid": "d7d3eb62-bf5a-4ecb-98bf-ffd4ae05a139",
     "showTitle": false,
     "tableResultSettingsMap": {},
     "title": ""
    }
   },
   "outputs": [],
   "source": [
    "gitex.write.format(\"delta\").mode(\"overwrite\").save(\"abfss://gitexdatacontainner@gitexdata.dfs.core.windows.net/silver/gitex\")"
   ]
  },
  {
   "cell_type": "markdown",
   "metadata": {
    "application/vnd.databricks.v1+cell": {
     "cellMetadata": {
      "byteLimit": 2048000,
      "rowLimit": 10000
     },
     "inputWidgets": {},
     "nuid": "8677a259-b8e2-4ab2-94ce-9ffe35a8aad7",
     "showTitle": false,
     "tableResultSettingsMap": {},
     "title": ""
    }
   },
   "source": [
    "## speakers file trasformation "
   ]
  },
  {
   "cell_type": "code",
   "execution_count": 0,
   "metadata": {
    "application/vnd.databricks.v1+cell": {
     "cellMetadata": {
      "byteLimit": 2048000,
      "rowLimit": 10000
     },
     "inputWidgets": {},
     "nuid": "640f03f4-52a7-4679-af56-27e5c61f4fcd",
     "showTitle": false,
     "tableResultSettingsMap": {},
     "title": ""
    }
   },
   "outputs": [],
   "source": [
    "speakers = spark.read.format(\"csv\").option(\"header\", \"true\").load(\"abfss://gitexdatacontainner@gitexdata.dfs.core.windows.net/bronze/speakers.csv\")\n"
   ]
  },
  {
   "cell_type": "code",
   "execution_count": 0,
   "metadata": {
    "application/vnd.databricks.v1+cell": {
     "cellMetadata": {
      "byteLimit": 2048000,
      "rowLimit": 10000
     },
     "inputWidgets": {},
     "nuid": "4b76d9dd-8497-4796-a260-8a1f21ebeaf6",
     "showTitle": false,
     "tableResultSettingsMap": {},
     "title": ""
    }
   },
   "outputs": [
    {
     "output_type": "stream",
     "name": "stdout",
     "output_type": "stream",
     "text": [
      "Out[21]: ['PopupLeftSide src',\n 'SpeakersLeftInfo',\n 'popdesignation',\n 'popcompanyName',\n 'popcountry',\n 'Sepeaker_Bio',\n 'Sepeaker_Bio 2',\n 'Sepeaker_Bio 3',\n 'Sepeaker_Bio 4',\n 'Sepeaker_Bio 5']"
     ]
    }
   ],
   "source": [
    "speakers.columns"
   ]
  },
  {
   "cell_type": "code",
   "execution_count": 0,
   "metadata": {
    "application/vnd.databricks.v1+cell": {
     "cellMetadata": {
      "byteLimit": 2048000,
      "rowLimit": 10000
     },
     "inputWidgets": {},
     "nuid": "ab48f0ef-f481-45cb-9d9a-7b63e3b80ad5",
     "showTitle": false,
     "tableResultSettingsMap": {},
     "title": ""
    }
   },
   "outputs": [],
   "source": [
    "speakers = speakers.withColumnRenamed(\"SpeakersLeftInfo\",\"speaker_name\") \\\n",
    "                   .withColumnRenamed(\"popdesignation\", \"speaker_Designation\") \\\n",
    "                     .withColumnRenamed(\"popcompanyName\", \"company_represented\") \\\n",
    "                       .withColumnRenamed(\"popcountry\", \"speaker_country_origin\") \\\n",
    "                         .withColumnRenamed(\"Sepeaker_Bio\", \"Sepeaker_Bio_1\") \\\n",
    "                           .withColumnRenamed(\"Sepeaker_Bio 2\", \"Sepeaker_Bio_2\") \\\n",
    "                             .withColumnRenamed(\"Sepeaker_Bio 3\", \"Sepeaker_Bio_3\") \\\n",
    "                               .withColumnRenamed(\"Sepeaker_Bio 4\", \"Sepeaker_Bio_4\") \\\n",
    "                                 .withColumnRenamed(\"Sepeaker_Bio 5\", \"Sepeaker_Bio_5\") \n",
    "\n",
    "                       \n",
    "                       \n",
    "                     \n"
   ]
  },
  {
   "cell_type": "code",
   "execution_count": 0,
   "metadata": {
    "application/vnd.databricks.v1+cell": {
     "cellMetadata": {
      "byteLimit": 2048000,
      "rowLimit": 10000
     },
     "inputWidgets": {},
     "nuid": "04b3dfd4-83a6-4153-9c98-b404d07fd4d0",
     "showTitle": false,
     "tableResultSettingsMap": {},
     "title": ""
    }
   },
   "outputs": [],
   "source": [
    "speakers = speakers.drop(\"PopupLeftSide src\")"
   ]
  },
  {
   "cell_type": "code",
   "execution_count": 0,
   "metadata": {
    "application/vnd.databricks.v1+cell": {
     "cellMetadata": {
      "byteLimit": 2048000,
      "rowLimit": 10000
     },
     "inputWidgets": {},
     "nuid": "0b47c4b6-233b-4d18-bf3f-b9c620ded988",
     "showTitle": false,
     "tableResultSettingsMap": {},
     "title": ""
    }
   },
   "outputs": [
    {
     "output_type": "stream",
     "name": "stdout",
     "output_type": "stream",
     "text": [
      "Out[24]: ['speaker_name',\n 'speaker_Designation',\n 'company_represented',\n 'speaker_country_origin',\n 'Sepeaker_Bio_1',\n 'Sepeaker_Bio_2',\n 'Sepeaker_Bio_3',\n 'Sepeaker_Bio_4',\n 'Sepeaker_Bio_5']"
     ]
    }
   ],
   "source": [
    "speakers.columns"
   ]
  },
  {
   "cell_type": "code",
   "execution_count": 0,
   "metadata": {
    "application/vnd.databricks.v1+cell": {
     "cellMetadata": {
      "byteLimit": 2048000,
      "rowLimit": 10000
     },
     "inputWidgets": {},
     "nuid": "29cc9e3a-30c5-40e3-a5b6-16c89b0e32bb",
     "showTitle": false,
     "tableResultSettingsMap": {},
     "title": ""
    }
   },
   "outputs": [
    {
     "output_type": "stream",
     "name": "stdout",
     "output_type": "stream",
     "text": [
      "+--------------------+\n|      Sepeaker_Bio_1|\n+--------------------+\n|                null|\n|                null|\n|               Dr.\\n|\n|                null|\n|                null|\n|                null|\n|                null|\n|                null|\n|                null|\n|                null|\n|                null|\n|                null|\n|                null|\n|                null|\n|                null|\n|                null|\n|                null|\n|                null|\n|                null|\n|                null|\n|Saïd Ibrahimi was...|\n|                null|\n|                null|\n|                null|\n|                null|\n|                null|\n|                null|\n|                null|\n|                null|\n|                null|\n|                null|\n|                null|\n|                null|\n|                null|\n|Hicham El Habti i...|\n|                null|\n|Sacha Michaud is ...|\n|                null|\n|                null|\n|Professor Akin Ab...|\n|                null|\n|                null|\n|                null|\n|                null|\n|                null|\n|                null|\n|                null|\n|                null|\n|                null|\n|                null|\n+--------------------+\nonly showing top 50 rows\n\n"
     ]
    }
   ],
   "source": [
    "speakers.select(\"Sepeaker_Bio_1\").show(50)"
   ]
  },
  {
   "cell_type": "code",
   "execution_count": 0,
   "metadata": {
    "application/vnd.databricks.v1+cell": {
     "cellMetadata": {
      "byteLimit": 2048000,
      "rowLimit": 10000
     },
     "inputWidgets": {},
     "nuid": "4e040bdc-1811-4297-9cd6-c55a4ae1622e",
     "showTitle": false,
     "tableResultSettingsMap": {},
     "title": ""
    }
   },
   "outputs": [
    {
     "output_type": "stream",
     "name": "stdout",
     "output_type": "stream",
     "text": [
      "+--------------+-----+\n|Sepeaker_Bio_1|count|\n+--------------+-----+\n|          null|  281|\n+--------------+-----+\n\n"
     ]
    }
   ],
   "source": [
    "from pyspark.sql import functions as F\n",
    "\n",
    "duplicates = speakers.groupBy(\"Sepeaker_Bio_1\") \\\n",
    "                  .agg(F.count(\"*\").alias(\"count\")) \\\n",
    "                  .filter(F.col(\"count\") > 1)\n",
    "\n",
    "duplicates.show()\n"
   ]
  },
  {
   "cell_type": "code",
   "execution_count": 0,
   "metadata": {
    "application/vnd.databricks.v1+cell": {
     "cellMetadata": {
      "byteLimit": 2048000,
      "rowLimit": 10000
     },
     "inputWidgets": {},
     "nuid": "79161e1a-379b-4939-8f82-f671f104373b",
     "showTitle": false,
     "tableResultSettingsMap": {},
     "title": ""
    }
   },
   "outputs": [
    {
     "output_type": "stream",
     "name": "stdout",
     "output_type": "stream",
     "text": [
      "Nombre de valeurs nulles : 317\nNombre de valeurs non nulles : 8\n"
     ]
    }
   ],
   "source": [
    "\n",
    "from pyspark.sql.functions import col\n",
    "null_count = speakers.filter(col(\"Sepeaker_Bio_5\").isNull()).count()\n",
    "non_null_count = speakers.filter(col(\"Sepeaker_Bio_5\").isNotNull()).count()\n",
    "\n",
    "print(f\"Nombre de valeurs nulles : {null_count}\")\n",
    "print(f\"Nombre de valeurs non nulles : {non_null_count}\")"
   ]
  },
  {
   "cell_type": "code",
   "execution_count": 0,
   "metadata": {
    "application/vnd.databricks.v1+cell": {
     "cellMetadata": {
      "byteLimit": 2048000,
      "rowLimit": 10000
     },
     "inputWidgets": {},
     "nuid": "e3359414-2b24-420e-923b-85c1aa838424",
     "showTitle": false,
     "tableResultSettingsMap": {},
     "title": ""
    }
   },
   "outputs": [
    {
     "output_type": "stream",
     "name": "stdout",
     "output_type": "stream",
     "text": [
      "Le nombre total de lignes dans la table est : 325\n"
     ]
    }
   ],
   "source": [
    "nombre_lignes = speakers.count()\n",
    "\n",
    "print(f\"Le nombre total de lignes dans la table est : {nombre_lignes}\")\n"
   ]
  },
  {
   "cell_type": "code",
   "execution_count": 0,
   "metadata": {
    "application/vnd.databricks.v1+cell": {
     "cellMetadata": {
      "byteLimit": 2048000,
      "rowLimit": 10000
     },
     "inputWidgets": {},
     "nuid": "7f77f647-e9e3-4f3f-ab4d-962341c4713d",
     "showTitle": false,
     "tableResultSettingsMap": {},
     "title": ""
    }
   },
   "outputs": [],
   "source": [
    "speakers.write.format(\"delta\").mode(\"overwrite\").save(\"abfss://gitexdatacontainner@gitexdata.dfs.core.windows.net/silver/speakers\")"
   ]
  },
  {
   "cell_type": "code",
   "execution_count": 0,
   "metadata": {
    "application/vnd.databricks.v1+cell": {
     "cellMetadata": {
      "byteLimit": 2048000,
      "rowLimit": 10000
     },
     "inputWidgets": {},
     "nuid": "d9bab7a6-3917-4ac6-955f-067798979c19",
     "showTitle": false,
     "tableResultSettingsMap": {},
     "title": ""
    }
   },
   "outputs": [],
   "source": []
  }
 ],
 "metadata": {
  "application/vnd.databricks.v1+notebook": {
   "dashboards": [],
   "environmentMetadata": {
    "base_environment": "",
    "client": "1"
   },
   "language": "python",
   "notebookMetadata": {
    "pythonIndentUnit": 2
   },
   "notebookName": "boronze_to_silver",
   "widgets": {}
  },
  "language_info": {
   "name": "python"
  }
 },
 "nbformat": 4,
 "nbformat_minor": 0
}
