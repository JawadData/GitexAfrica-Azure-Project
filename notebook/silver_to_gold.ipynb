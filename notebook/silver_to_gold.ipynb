{
 "cells": [
  {
   "cell_type": "markdown",
   "metadata": {
    "application/vnd.databricks.v1+cell": {
     "cellMetadata": {
      "byteLimit": 2048000,
      "rowLimit": 10000
     },
     "inputWidgets": {},
     "nuid": "ca338ae3-22a7-4315-929d-a1aeb5a747d5",
     "showTitle": false,
     "tableResultSettingsMap": {},
     "title": ""
    }
   },
   "source": [
    "# Silver To Gold"
   ]
  },
  {
   "cell_type": "markdown",
   "metadata": {
    "application/vnd.databricks.v1+cell": {
     "cellMetadata": {
      "byteLimit": 2048000,
      "rowLimit": 10000
     },
     "inputWidgets": {},
     "nuid": "7cbe9ce9-1932-4fa5-a6fa-f209ca42804d",
     "showTitle": false,
     "tableResultSettingsMap": {},
     "title": ""
    }
   },
   "source": [
    "## speakers transformation"
   ]
  },
  {
   "cell_type": "code",
   "execution_count": 0,
   "metadata": {
    "application/vnd.databricks.v1+cell": {
     "cellMetadata": {
      "byteLimit": 2048000,
      "rowLimit": 10000
     },
     "inputWidgets": {},
     "nuid": "bb57e1ff-4785-494d-b007-3641b3b8ef37",
     "showTitle": false,
     "tableResultSettingsMap": {},
     "title": ""
    }
   },
   "outputs": [],
   "source": [
    "speakers = spark.read.format(\"parquet\").load(\"abfss://gitexdatacontainner@gitexdata.dfs.core.windows.net/silver/speakers/speakers.snappy.parquet\")\n"
   ]
  },
  {
   "cell_type": "code",
   "execution_count": 0,
   "metadata": {
    "application/vnd.databricks.v1+cell": {
     "cellMetadata": {
      "byteLimit": 2048000,
      "rowLimit": 10000
     },
     "inputWidgets": {},
     "nuid": "1fe97ece-b6ea-4a21-b6cf-b9a2406be2ea",
     "showTitle": false,
     "tableResultSettingsMap": {},
     "title": ""
    }
   },
   "outputs": [
    {
     "output_type": "stream",
     "name": "stdout",
     "output_type": "stream",
     "text": [
      "Out[4]: ['speaker_name',\n 'speaker_Designation',\n 'company_represented',\n 'speaker_country_origin',\n 'Sepeaker_Bio_1',\n 'Sepeaker_Bio_2',\n 'Sepeaker_Bio_3',\n 'Sepeaker_Bio_4',\n 'Sepeaker_Bio_5']"
     ]
    }
   ],
   "source": [
    "speakers.columns"
   ]
  },
  {
   "cell_type": "code",
   "execution_count": 0,
   "metadata": {
    "application/vnd.databricks.v1+cell": {
     "cellMetadata": {
      "byteLimit": 2048000,
      "rowLimit": 10000
     },
     "inputWidgets": {},
     "nuid": "f7d8c148-7213-473d-bac6-3a9f2597a11d",
     "showTitle": false,
     "tableResultSettingsMap": {},
     "title": ""
    }
   },
   "outputs": [],
   "source": [
    "from pyspark.sql import functions as F\n",
    "\n",
    "speakers_bio = speakers.select(\"speaker_name\", \"Sepeaker_Bio_1\", \"Sepeaker_Bio_2\", \"Sepeaker_Bio_3\", \"Sepeaker_Bio_4\", \"Sepeaker_Bio_5\")\n",
    "\n",
    "speakers_bio_filtred = speakers_bio.filter(\n",
    "    (F.col(\"speaker_name\").isNotNull()) |\n",
    "    (F.col(\"Sepeaker_Bio_1\").isNotNull()) |\n",
    "    (F.col(\"Sepeaker_Bio_2\").isNotNull()) |\n",
    "    (F.col(\"Sepeaker_Bio_3\").isNotNull()) |\n",
    "    (F.col(\"Sepeaker_Bio_4\").isNotNull()) |\n",
    "    (F.col(\"Sepeaker_Bio_5\").isNotNull())\n",
    ")\n",
    "\n"
   ]
  },
  {
   "cell_type": "code",
   "execution_count": 0,
   "metadata": {
    "application/vnd.databricks.v1+cell": {
     "cellMetadata": {
      "byteLimit": 2048000,
      "rowLimit": 10000
     },
     "inputWidgets": {},
     "nuid": "6201bd10-d49e-4339-a6db-c0132ac02ba2",
     "showTitle": false,
     "tableResultSettingsMap": {},
     "title": ""
    }
   },
   "outputs": [
    {
     "output_type": "stream",
     "name": "stdout",
     "output_type": "stream",
     "text": [
      "Out[6]: ['speaker_name',\n 'Sepeaker_Bio_1',\n 'Sepeaker_Bio_2',\n 'Sepeaker_Bio_3',\n 'Sepeaker_Bio_4',\n 'Sepeaker_Bio_5']"
     ]
    }
   ],
   "source": [
    "speakers_bio.columns"
   ]
  },
  {
   "cell_type": "code",
   "execution_count": 0,
   "metadata": {
    "application/vnd.databricks.v1+cell": {
     "cellMetadata": {
      "byteLimit": 2048000,
      "rowLimit": 10000
     },
     "inputWidgets": {},
     "nuid": "2a838227-1b83-48eb-b8e4-4c7b7e206f13",
     "showTitle": false,
     "tableResultSettingsMap": {},
     "title": ""
    }
   },
   "outputs": [
    {
     "output_type": "stream",
     "name": "stdout",
     "output_type": "stream",
     "text": [
      "+--------------------+--------------+--------------+--------------+--------------+--------------+\n|        speaker_name|Sepeaker_Bio_1|Sepeaker_Bio_2|Sepeaker_Bio_3|Sepeaker_Bio_4|Sepeaker_Bio_5|\n+--------------------+--------------+--------------+--------------+--------------+--------------+\n|   H.E Ghita Mezzour|          null|          null|          null|          null|          null|\n|H.E Khalid Aït Taleb|          null|          null|          null|          null|          null|\n|H.E Dr. Tunji Alausa|         Dr.\\n|          null|          null|          null|          null|\n| Nigerian Ministe...|          null|          null|          null|          null|          null|\n| emphasizing Univ...|          null|          null|          null|          null|          null|\n| he's a U.S. boar...|          null|          null|          null|          null|          null|\n| known for pionee...|          null|          null|          null|          null|          null|\n| focusing on kidn...|          null|          null|          null|          null|          null|\n| contributing sig...|          null|          null|          null|          null|          null|\n|              the UK|          null|          null|          null|          null|          null|\n+--------------------+--------------+--------------+--------------+--------------+--------------+\nonly showing top 10 rows\n\n"
     ]
    }
   ],
   "source": [
    "speakers_bio.show(10)"
   ]
  },
  {
   "cell_type": "code",
   "execution_count": 0,
   "metadata": {
    "application/vnd.databricks.v1+cell": {
     "cellMetadata": {
      "byteLimit": 2048000,
      "rowLimit": 10000
     },
     "inputWidgets": {},
     "nuid": "b1bfca48-5c44-435f-a945-85bf467c7234",
     "showTitle": false,
     "tableResultSettingsMap": {},
     "title": ""
    }
   },
   "outputs": [
    {
     "output_type": "stream",
     "name": "stdout",
     "output_type": "stream",
     "text": [
      "Le nombre total de lignes dans la table est : 325\n"
     ]
    }
   ],
   "source": [
    "\n",
    "nombre_lignes = speakers_bio.count()\n",
    "\n",
    "print(f\"Le nombre total de lignes dans la table est : {nombre_lignes}\")"
   ]
  },
  {
   "cell_type": "code",
   "execution_count": 0,
   "metadata": {
    "application/vnd.databricks.v1+cell": {
     "cellMetadata": {
      "byteLimit": 2048000,
      "rowLimit": 10000
     },
     "inputWidgets": {},
     "nuid": "cd08af12-3b27-4c54-b445-1c819548fec6",
     "showTitle": false,
     "tableResultSettingsMap": {},
     "title": ""
    }
   },
   "outputs": [],
   "source": [
    "from pyspark.sql.functions import col\n",
    "from functools import reduce \n",
    "\n",
    "specific_column = \"speaker_name\"\n",
    "\n",
    "condition_specific = (\n",
    "    col(specific_column).isNotNull() & \n",
    "    reduce(lambda x, y: x & y, (col(c).isNull() for c in speakers_bio.columns if c != specific_column))\n",
    ")\n",
    "\n",
    "condition_all_null = reduce(lambda x, y: x & y, (col(c).isNull() for c in speakers_bio.columns))\n",
    "\n",
    "final_condition = condition_specific | condition_all_null\n",
    "\n",
    "speakers_bio_filtered = speakers_bio.filter(~final_condition)\n"
   ]
  },
  {
   "cell_type": "code",
   "execution_count": 0,
   "metadata": {
    "application/vnd.databricks.v1+cell": {
     "cellMetadata": {
      "byteLimit": 2048000,
      "rowLimit": 10000
     },
     "inputWidgets": {},
     "nuid": "df6326cd-cc22-4d7f-875a-0622bd4b9ec2",
     "showTitle": false,
     "tableResultSettingsMap": {},
     "title": ""
    }
   },
   "outputs": [
    {
     "output_type": "stream",
     "name": "stdout",
     "output_type": "stream",
     "text": [
      "+--------------------+--------------------+--------------------+--------------------+--------------------+--------------------+\n|        speaker_name|      Sepeaker_Bio_1|      Sepeaker_Bio_2|      Sepeaker_Bio_3|      Sepeaker_Bio_4|      Sepeaker_Bio_5|\n+--------------------+--------------------+--------------------+--------------------+--------------------+--------------------+\n|H.E Dr. Tunji Alausa|               Dr.\\n|                null|                null|                null|                null|\n|       Saïd Ibrahimi|Saïd Ibrahimi was...|                null|                null|                null|                null|\n|     Hicham el Habti|Hicham El Habti i...|Hicham El Habti h...|He joined OCP Gro...|                null|                null|\n|       Sacha Michaud|Sacha Michaud is ...|                null|                null|                null|                null|\n|        Akin Abayomi|Professor Akin Ab...|                null|                null|                null|                null|\n|   Saskia Steinacker|Saskia Steinacker...|                null|                null|                null|                null|\n|         Ajai Sehgal|Ajai Sehgal has b...|                null|                null|                null|                null|\n| British A. Robinson|Ms. British A. Ro...|                null|                null|                null|                null|\n|      Hanna Burkhadt|             Hanna\\n|                null|                null|                null|                null|\n|Pierre Celestin R...|Mr. Pierre Celest...|Mr. Rwabukumba st...|He worked in diff...|Mr. Rwabukumba is...|Mr. Rwabukumba is...|\n|    Elisabeth Moreno|Elisabeth Moreno ...|                null|                null|                null|                null|\n|    Marelize Gorgens|At the World Bank...|                null|                null|                null|                null|\n|                 PMP|         and digital|                null|                null|                null|                null|\n|     Lillian Barnard|Lillian is a high...|                null|                null|                null|                null|\n|   Dr. Pascal Andrei|Dr. Pascal Andrei...|He started his ca...|Pascal Andrei is ...|He plays a very a...|He is a reservist...|\n|            Awo Ablo|Awo is EVP for St...|                null|                null|                null|                null|\n|Dr. Omar Farouk I...|Omar Farouk Ibrah...|                null|                null|                null|                null|\n|          New Jersey|                Kano|             Nigeria|                    |                null|                null|\n| and a Bachelor’s...|Dr. Ibrahim assum...|                null|                null|                null|                null|\n|        Rocky Dawuni|Three-time  nomin...|                null|                null|                null|                null|\n|          Celina Lee|Celina Lee is an ...|Celina has 20 yea...|                null|                null|                null|\n|   Lavina Ramkissoon|Recognised as a t...|                null|                null|                null|                null|\n|Dr. Sidi Mohamed ...|Dr. Sidi Mohamed ...|                null|                null|                null|                null|\n|       Fabrice Perez|•       Head of V...|                null|                null|                null|                null|\n|         Carl Manlan|Carl focuses on e...|Prior to Visa, Ca...|Carl holds an und...|                null|                null|\n|     Sherief Kesseba|Sherief is the Ma...|                null|                null|                null|                null|\n|   Tega Oghenenejobo|With a background...|                null|                null|                null|                null|\n|         Sarah Sabry|Sara Sabry is an ...|                null|                null|                null|                null|\n|     Robotic Surgery| and Bioastronaut...|Sabry, an acclaim...|                null|                null|                null|\n|   El Mostafaa Rabii|On the sidelines ...|It should be note...|                null|                null|                null|\n+--------------------+--------------------+--------------------+--------------------+--------------------+--------------------+\nonly showing top 30 rows\n\n"
     ]
    }
   ],
   "source": [
    "speakers_bio_filtered.show(30)"
   ]
  },
  {
   "cell_type": "code",
   "execution_count": 0,
   "metadata": {
    "application/vnd.databricks.v1+cell": {
     "cellMetadata": {
      "byteLimit": 2048000,
      "rowLimit": 10000
     },
     "inputWidgets": {},
     "nuid": "6cdecef4-e415-4933-9189-8b8b10f69aea",
     "showTitle": false,
     "tableResultSettingsMap": {},
     "title": ""
    }
   },
   "outputs": [
    {
     "output_type": "stream",
     "name": "stdout",
     "output_type": "stream",
     "text": [
      "Le nombre total de lignes dans la table est : 44\n"
     ]
    }
   ],
   "source": [
    "\n",
    "nombre_lignes = speakers_bio_filtered.count()\n",
    "\n",
    "print(f\"Le nombre total de lignes dans la table est : {nombre_lignes}\")"
   ]
  },
  {
   "cell_type": "code",
   "execution_count": 0,
   "metadata": {
    "application/vnd.databricks.v1+cell": {
     "cellMetadata": {
      "byteLimit": 2048000,
      "rowLimit": 10000
     },
     "inputWidgets": {},
     "nuid": "ecec7d69-0dde-451e-902a-650af7cf558e",
     "showTitle": false,
     "tableResultSettingsMap": {},
     "title": ""
    }
   },
   "outputs": [],
   "source": [
    "speakers = speakers.drop(\"Sepeaker_Bio_1\", \"Sepeaker_Bio_2\", \"Sepeaker_Bio_3\", \"Sepeaker_Bio_4\", \"Sepeaker_Bio_5\")"
   ]
  },
  {
   "cell_type": "code",
   "execution_count": 0,
   "metadata": {
    "application/vnd.databricks.v1+cell": {
     "cellMetadata": {
      "byteLimit": 2048000,
      "rowLimit": 10000
     },
     "inputWidgets": {},
     "nuid": "0a79e6dc-338f-4b36-8235-c8c1c872391f",
     "showTitle": false,
     "tableResultSettingsMap": {},
     "title": ""
    }
   },
   "outputs": [
    {
     "output_type": "stream",
     "name": "stdout",
     "output_type": "stream",
     "text": [
      "Out[13]: ['speaker_name',\n 'speaker_Designation',\n 'company_represented',\n 'speaker_country_origin']"
     ]
    }
   ],
   "source": [
    "speakers.columns"
   ]
  },
  {
   "cell_type": "code",
   "execution_count": 0,
   "metadata": {
    "application/vnd.databricks.v1+cell": {
     "cellMetadata": {
      "byteLimit": 2048000,
      "rowLimit": 10000
     },
     "inputWidgets": {},
     "nuid": "3bec9791-3505-4e44-a815-0adc912693b1",
     "showTitle": false,
     "tableResultSettingsMap": {},
     "title": ""
    }
   },
   "outputs": [],
   "source": [
    "speakers.write.format(\"delta\").mode(\"overwrite\").save(\"abfss://gitexdatacontainner@gitexdata.dfs.core.windows.net/gold/speakers\")"
   ]
  },
  {
   "cell_type": "code",
   "execution_count": 0,
   "metadata": {
    "application/vnd.databricks.v1+cell": {
     "cellMetadata": {
      "byteLimit": 2048000,
      "rowLimit": 10000
     },
     "inputWidgets": {},
     "nuid": "a94906bf-31da-43c8-85b3-e6f86630a51a",
     "showTitle": false,
     "tableResultSettingsMap": {},
     "title": ""
    }
   },
   "outputs": [],
   "source": [
    "speakers_bio_filtered.write.format(\"delta\").mode(\"overwrite\").save(\"abfss://gitexdatacontainner@gitexdata.dfs.core.windows.net/gold/speakers_bio_filtered\")"
   ]
  },
  {
   "cell_type": "markdown",
   "metadata": {
    "application/vnd.databricks.v1+cell": {
     "cellMetadata": {
      "byteLimit": 2048000,
      "rowLimit": 10000
     },
     "inputWidgets": {},
     "nuid": "237e8c34-07e0-4d53-8c60-51c14820beba",
     "showTitle": false,
     "tableResultSettingsMap": {},
     "title": ""
    }
   },
   "source": [
    "## gitex transformation"
   ]
  },
  {
   "cell_type": "code",
   "execution_count": 0,
   "metadata": {
    "application/vnd.databricks.v1+cell": {
     "cellMetadata": {
      "byteLimit": 2048000,
      "rowLimit": 10000
     },
     "inputWidgets": {},
     "nuid": "9976eccd-4f0c-4de0-8d78-fbcc2ddf1cc8",
     "showTitle": false,
     "tableResultSettingsMap": {},
     "title": ""
    }
   },
   "outputs": [],
   "source": [
    "gitex = spark.read.format(\"parquet\").load(\"abfss://gitexdatacontainner@gitexdata.dfs.core.windows.net/silver/gitex/gitex.snappy.parquet\")\n"
   ]
  },
  {
   "cell_type": "code",
   "execution_count": 0,
   "metadata": {
    "application/vnd.databricks.v1+cell": {
     "cellMetadata": {
      "byteLimit": 2048000,
      "rowLimit": 10000
     },
     "inputWidgets": {},
     "nuid": "7ef7b5d5-e7ae-465f-809b-5a152a1dd514",
     "showTitle": false,
     "tableResultSettingsMap": {},
     "title": ""
    }
   },
   "outputs": [
    {
     "output_type": "stream",
     "name": "stdout",
     "output_type": "stream",
     "text": [
      "Out[17]: ['exhibitor_Name',\n 'origin_country',\n 'exhibitor_description',\n 'Primary_sector',\n 'Additional_sectors_2',\n 'Additional_sectors_3',\n 'Additional_sectors_4',\n 'Additional_sectors_5',\n 'Additional_sectors_6',\n 'Additional_sectors_7',\n 'Additional_sectors_8',\n 'Additional_sectors_9',\n 'Additional_sectors_10',\n 'Stand',\n 'Hall']"
     ]
    }
   ],
   "source": [
    "gitex.columns"
   ]
  },
  {
   "cell_type": "code",
   "execution_count": 0,
   "metadata": {
    "application/vnd.databricks.v1+cell": {
     "cellMetadata": {
      "byteLimit": 2048000,
      "rowLimit": 10000
     },
     "inputWidgets": {},
     "nuid": "bf843c1d-cd80-4ca0-94f8-f9604f0e5ddf",
     "showTitle": false,
     "tableResultSettingsMap": {},
     "title": ""
    }
   },
   "outputs": [
    {
     "output_type": "stream",
     "name": "stdout",
     "output_type": "stream",
     "text": [
      "Nombre de lignes où toutes les colonnes sont nulles : 132\nNombre de lignes où au moins une colonne est non nulle : 1777\n"
     ]
    }
   ],
   "source": [
    "all_null_condition = reduce(lambda x, y: x & y, (col(c).isNull() for c in gitex.columns))\n",
    "\n",
    "any_not_null_condition = reduce(lambda x, y: x | y, (col(c).isNotNull() for c in gitex.columns))\n",
    "\n",
    "all_null_count = gitex.filter(all_null_condition).count()  \n",
    "any_not_null_count = gitex.filter(any_not_null_condition).count() \n",
    "\n",
    "# Afficher les résultats\n",
    "print(f\"Nombre de lignes où toutes les colonnes sont nulles : {all_null_count}\")\n",
    "print(f\"Nombre de lignes où au moins une colonne est non nulle : {any_not_null_count}\")"
   ]
  },
  {
   "cell_type": "code",
   "execution_count": 0,
   "metadata": {
    "application/vnd.databricks.v1+cell": {
     "cellMetadata": {
      "byteLimit": 2048000,
      "rowLimit": 10000
     },
     "inputWidgets": {},
     "nuid": "ec2a6995-3856-48e7-94fb-0245cc9e99be",
     "showTitle": false,
     "tableResultSettingsMap": {},
     "title": ""
    }
   },
   "outputs": [],
   "source": [
    "gitex = gitex.dropna(how=\"all\")"
   ]
  },
  {
   "cell_type": "code",
   "execution_count": 0,
   "metadata": {
    "application/vnd.databricks.v1+cell": {
     "cellMetadata": {
      "byteLimit": 2048000,
      "rowLimit": 10000
     },
     "inputWidgets": {},
     "nuid": "d1b58eb0-8ef8-4e09-a9ac-c4230eaed93e",
     "showTitle": false,
     "tableResultSettingsMap": {},
     "title": ""
    }
   },
   "outputs": [
    {
     "output_type": "stream",
     "name": "stdout",
     "output_type": "stream",
     "text": [
      "Nombre de lignes où toutes les colonnes sont nulles : 0\nNombre de lignes où au moins une colonne est non nulle : 1777\n"
     ]
    }
   ],
   "source": [
    "all_null_condition = reduce(lambda x, y: x & y, (col(c).isNull() for c in gitex.columns))\n",
    "\n",
    "any_not_null_condition = reduce(lambda x, y: x | y, (col(c).isNotNull() for c in gitex.columns))\n",
    "\n",
    "all_null_count = gitex.filter(all_null_condition).count()  \n",
    "any_not_null_count = gitex.filter(any_not_null_condition).count() \n",
    "\n",
    "# Afficher les résultats\n",
    "print(f\"Nombre de lignes où toutes les colonnes sont nulles : {all_null_count}\")\n",
    "print(f\"Nombre de lignes où au moins une colonne est non nulle : {any_not_null_count}\")"
   ]
  },
  {
   "cell_type": "code",
   "execution_count": 0,
   "metadata": {
    "application/vnd.databricks.v1+cell": {
     "cellMetadata": {
      "byteLimit": 2048000,
      "rowLimit": 10000
     },
     "inputWidgets": {},
     "nuid": "1cde9247-1542-430f-a874-ee66971e6fbb",
     "showTitle": false,
     "tableResultSettingsMap": {},
     "title": ""
    }
   },
   "outputs": [],
   "source": [
    "gitex.write.format(\"delta\").mode(\"overwrite\").save(\"abfss://gitexdatacontainner@gitexdata.dfs.core.windows.net/gold/gitex\")"
   ]
  }
 ],
 "metadata": {
  "application/vnd.databricks.v1+notebook": {
   "dashboards": [],
   "environmentMetadata": {
    "base_environment": "",
    "client": "1"
   },
   "language": "python",
   "notebookMetadata": {
    "pythonIndentUnit": 2
   },
   "notebookName": "silver_to_gold",
   "widgets": {}
  },
  "language_info": {
   "name": "python"
  }
 },
 "nbformat": 4,
 "nbformat_minor": 0
}
